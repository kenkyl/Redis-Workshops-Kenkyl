{
  "cells": [
    {
      "cell_type": "markdown",
      "metadata": {},
      "source": [
        "<a href=\"https://colab.research.google.com/github/Redislabs-Solution-Architects/Redis-Workshops/blob/main/07-AWS_Bedrock_KnowledgeBase/07-Bedrock_KnowledgeBase.ipynb\" target=\"_parent\"><img src=\"https://colab.research.google.com/assets/colab-badge.svg\" alt=\"Open In Colab\"/></a>"
      ]
    },
    {
      "cell_type": "markdown",
      "metadata": {
        "id": "25Jb4sjXN6qR"
      },
      "source": [
        "# Redis as a Vector Store for Amazon Bedrock KnowledgeBase\n",
        "\n",
        "![Redis](https://redis.io/wp-content/uploads/2024/04/Logotype.svg?auto=webp&quality=85,75&width=120)\n",
        "\n",
        "This notebook illustrates API access to Amazon Bedrock Knowledgebase. For details on setting up the KnowledgeBase refer to the README.md file in the same folder"
      ]
    },
    {
      "cell_type": "code",
      "execution_count": 6,
      "metadata": {
        "id": "BV6MwlhgpLiY"
      },
      "outputs": [],
      "source": [
        "!pip install -q boto3"
      ]
    },
    {
      "cell_type": "markdown",
      "metadata": {
        "id": "BY7j0v8jPWnL"
      },
      "source": [
        "## Initialize AWS Client\n",
        "Enter your AWS credentials, and KnowledgeBase ID and Region here"
      ]
    },
    {
      "cell_type": "code",
      "execution_count": 7,
      "metadata": {
        "id": "OVVt2-pUnHG2"
      },
      "outputs": [],
      "source": [
        "aws_access_key_id=\"AKIAY3LZERKEXAMPLE\" # @param {type:\"string\"}\n",
        "aws_secret_access_key='XXXXXX' # @param {type:\"string\"}\n",
        "region_name='us-east-1' # @param {type:\"string\"}\n",
        "knowledge_base_id=\"CZHQEXXXX\" # @param {type:\"string\"}"
      ]
    },
    {
      "cell_type": "code",
      "execution_count": 8,
      "metadata": {
        "id": "cxXlGpisPRpW"
      },
      "outputs": [],
      "source": [
        "# read secure key with getpass() in case of screen share to protect the key\n",
        "from getpass import getpass\n",
        "if aws_secret_access_key == 'XXXXXX':\n",
        "  aws_secret_access_key = getpass(\"AWS Secret Access Key:\")"
      ]
    },
    {
      "cell_type": "code",
      "execution_count": 9,
      "metadata": {
        "id": "8noJ_wmgq1iz"
      },
      "outputs": [],
      "source": [
        "import boto3\n",
        "bedrock_agent_runtime = boto3.client(service_name='bedrock-agent-runtime',aws_access_key_id=aws_access_key_id,aws_secret_access_key=aws_secret_access_key,region_name=region_name)"
      ]
    },
    {
      "cell_type": "markdown",
      "metadata": {
        "id": "Yv26szCCPh4W"
      },
      "source": [
        "Helper function retrieve contextual data from the Knowledge Base and generate the answer. Note that you can use different LLM models to answer the question here."
      ]
    },
    {
      "cell_type": "code",
      "execution_count": 10,
      "metadata": {
        "id": "5cHTaGo9m89p"
      },
      "outputs": [],
      "source": [
        "def retrieveAndGenerate(input, kbId):\n",
        "    return bedrock_agent_runtime.retrieve_and_generate(\n",
        "        input={\n",
        "            'text': input\n",
        "        },\n",
        "        retrieveAndGenerateConfiguration={\n",
        "            'type': 'KNOWLEDGE_BASE',\n",
        "            'knowledgeBaseConfiguration': {\n",
        "                'knowledgeBaseId': kbId,\n",
        "                'modelArn': 'arn:aws:bedrock:us-east-1::foundation-model/anthropic.claude-instant-v1'\n",
        "                }\n",
        "            }\n",
        "        )\n",
        "\n"
      ]
    },
    {
      "cell_type": "code",
      "execution_count": 11,
      "metadata": {
        "colab": {
          "base_uri": "https://localhost:8080/",
          "height": 35
        },
        "id": "LOnXHM4fPyA1",
        "outputId": "c8c0cdee-e298-48e8-ba00-ee9de9065749"
      },
      "outputs": [
        {
          "data": {
            "application/vnd.google.colaboratory.intrinsic+json": {
              "type": "string"
            },
            "text/plain": [
              "\"NVIDIA's revenue for fiscal year 2023 was $26,974 million, which was approximately the same as fiscal year 2022 revenue of $26,914 million.\""
            ]
          },
          "execution_count": 11,
          "metadata": {},
          "output_type": "execute_result"
        }
      ],
      "source": [
        "response = retrieveAndGenerate(\"What is NVDA revenue, comparing to last year?\", knowledge_base_id)\n",
        "response[\"output\"][\"text\"]"
      ]
    }
  ],
  "metadata": {
    "colab": {
      "provenance": []
    },
    "kernelspec": {
      "display_name": "Python 3",
      "name": "python3"
    },
    "language_info": {
      "name": "python"
    }
  },
  "nbformat": 4,
  "nbformat_minor": 0
}
