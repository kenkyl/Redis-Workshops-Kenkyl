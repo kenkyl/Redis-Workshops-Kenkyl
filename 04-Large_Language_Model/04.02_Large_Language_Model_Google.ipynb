{
  "cells": [
    {
      "cell_type": "markdown",
      "metadata": {
        "id": "4AkZOYLVbc6m"
      },
      "source": [
        "<a href=\"https://colab.research.google.com/github/Redislabs-Solution-Architects/Redis-Workshops/blob/main/04-Large_Language_Model/04.02_Large_Language_Model_Google.ipynb\" target=\"_parent\"><img src=\"https://colab.research.google.com/assets/colab-badge.svg\" alt=\"Open In Colab\"/></a>"
      ]
    },
    {
      "cell_type": "markdown",
      "metadata": {},
      "source": [
        "# Large Language Models\n",
        "\n",
        "![Redis](https://redis.io/wp-content/uploads/2024/04/Logotype.svg?auto=webp&quality=85,75&width=120)\n",
        "\n",
        "In this notebook you'll be using two LLMs. Google `gemini-pro` and Self - hosted in - notebook `databricks/dolly-v2`."
      ]
    },
    {
      "cell_type": "code",
      "execution_count": 1,
      "metadata": {
        "colab": {
          "base_uri": "https://localhost:8080/"
        },
        "id": "RBmXNV2Qpkhe",
        "outputId": "aaf1f9d5-88ac-4913-8c36-b0f809cca603"
      },
      "outputs": [
        {
          "name": "stdout",
          "output_type": "stream",
          "text": [
            "\u001b[?25l     \u001b[90m━━━━━━━━━━━━━━━━━━━━━━━━━━━━━━━━━━━━━━━━\u001b[0m \u001b[32m0.0/302.4 kB\u001b[0m \u001b[31m?\u001b[0m eta \u001b[36m-:--:--\u001b[0m\r\u001b[2K     \u001b[91m━━━━━━━━━━━━━━━━\u001b[0m\u001b[90m╺\u001b[0m\u001b[90m━━━━━━━━━━━━━━━━━━━━━━━\u001b[0m \u001b[32m122.9/302.4 kB\u001b[0m \u001b[31m3.7 MB/s\u001b[0m eta \u001b[36m0:00:01\u001b[0m\r\u001b[2K     \u001b[91m━━━━━━━━━━━━━━━━━━━━━━━━━━━━━━━━━━━━━━━\u001b[0m\u001b[90m╺\u001b[0m \u001b[32m297.0/302.4 kB\u001b[0m \u001b[31m5.6 MB/s\u001b[0m eta \u001b[36m0:00:01\u001b[0m\r\u001b[2K     \u001b[90m━━━━━━━━━━━━━━━━━━━━━━━━━━━━━━━━━━━━━━━━\u001b[0m \u001b[32m302.4/302.4 kB\u001b[0m \u001b[31m4.1 MB/s\u001b[0m eta \u001b[36m0:00:00\u001b[0m\n",
            "\u001b[2K     \u001b[90m━━━━━━━━━━━━━━━━━━━━━━━━━━━━━━━━━━━━━━━━\u001b[0m \u001b[32m171.5/171.5 kB\u001b[0m \u001b[31m6.4 MB/s\u001b[0m eta \u001b[36m0:00:00\u001b[0m\n",
            "\u001b[2K     \u001b[90m━━━━━━━━━━━━━━━━━━━━━━━━━━━━━━━━━━━━━━━━\u001b[0m \u001b[32m1.8/1.8 MB\u001b[0m \u001b[31m10.0 MB/s\u001b[0m eta \u001b[36m0:00:00\u001b[0m\n",
            "\u001b[?25h"
          ]
        }
      ],
      "source": [
        "!pip -q install google-generativeai accelerate transformers sentence-transformers tiktoken\n"
      ]
    },
    {
      "cell_type": "markdown",
      "metadata": {
        "id": "CUa-ZQkNchnc"
      },
      "source": [
        "## Authenticate notebook to Google Cloud API\n",
        "You can get your Google Cloud API key at https://console.cloud.google.com/apis/credentials\n",
        "\n",
        "For security reason we recomment to restrict the key to allow only Generative Language API"
      ]
    },
    {
      "cell_type": "code",
      "execution_count": 2,
      "metadata": {
        "colab": {
          "base_uri": "https://localhost:8080/"
        },
        "id": "Z8R4COiD08Ux",
        "outputId": "dd149005-b4f0-4bfa-dc04-289febcd87b2"
      },
      "outputs": [
        {
          "name": "stdout",
          "output_type": "stream",
          "text": [
            "Provide your Google API Key: ··········\n"
          ]
        }
      ],
      "source": [
        "import getpass\n",
        "import os\n",
        "\n",
        "if \"GOOGLE_API_KEY\" not in os.environ:\n",
        "    os.environ[\"GOOGLE_API_KEY\"] = getpass.getpass(\"Provide your Google API Key: \")"
      ]
    },
    {
      "cell_type": "markdown",
      "metadata": {
        "id": "nhlFMsm88r0u"
      },
      "source": [
        "Test that we have access to Google APIs by requesting the list of models"
      ]
    },
    {
      "cell_type": "code",
      "execution_count": 3,
      "metadata": {
        "colab": {
          "base_uri": "https://localhost:8080/"
        },
        "id": "ZsHU_3zD8Tzi",
        "outputId": "7c62fdb8-88a6-438b-c033-512be2947fa0"
      },
      "outputs": [
        {
          "name": "stdout",
          "output_type": "stream",
          "text": [
            "models/gemini-1.0-pro\n",
            "models/gemini-1.0-pro-001\n",
            "models/gemini-1.0-pro-latest\n",
            "models/gemini-1.0-pro-vision-latest\n",
            "models/gemini-1.5-pro-latest\n",
            "models/gemini-pro\n",
            "models/gemini-pro-vision\n"
          ]
        }
      ],
      "source": [
        "import google.generativeai as genai\n",
        "\n",
        "for m in genai.list_models():\n",
        "  if 'generateContent' in m.supported_generation_methods:\n",
        "    print(m.name)"
      ]
    },
    {
      "cell_type": "markdown",
      "metadata": {
        "id": "c-lVNefzcxRq"
      },
      "source": [
        "Initialize `databricks/dolly-v2-3b` via [HuggingFace](https://huggingface.co/databricks/dolly-v2-3b). Multiple progressively more powerful models are available, including 3b, 7b and 12b (referring to Billions of parameters). `dolly-v2-3b` is the only model in the family that would fit in the memory and GPU available in a free Google Colab instance.\n",
        "\n",
        "Loading and initializing the model can take few minutes."
      ]
    },
    {
      "cell_type": "code",
      "execution_count": 4,
      "metadata": {
        "colab": {
          "base_uri": "https://localhost:8080/",
          "height": 52
        },
        "id": "wBZG4fmnpoiR",
        "outputId": "393d624c-d8a7-418e-a6ae-40cde51f0524"
      },
      "outputs": [
        {
          "data": {
            "application/vnd.google.colaboratory.intrinsic+json": {
              "type": "string"
            },
            "text/plain": [
              "' # skip dolly initialization\\ndolly_completion = pipeline(model=\"databricks/dolly-v2-3b\", \\n                         torch_dtype=torch.bfloat16, \\n                         trust_remote_code=True, \\n                         device_map=\"auto\")\\n'"
            ]
          },
          "execution_count": 4,
          "metadata": {},
          "output_type": "execute_result"
        }
      ],
      "source": [
        "\"\"\" # skip dolly initialization\n",
        "import torch\n",
        "from transformers import pipeline\n",
        "dolly_completion = pipeline(model=\"databricks/dolly-v2-3b\",\n",
        "                         torch_dtype=torch.bfloat16,\n",
        "                         trust_remote_code=True,\n",
        "                         device_map=\"auto\")\n",
        "\"\"\""
      ]
    },
    {
      "cell_type": "markdown",
      "metadata": {
        "id": "c4kBXv65d2Sj"
      },
      "source": [
        "Helper function for Google Gemini model"
      ]
    },
    {
      "cell_type": "code",
      "execution_count": 5,
      "metadata": {
        "id": "73GvlwaM07b-"
      },
      "outputs": [],
      "source": [
        "model = genai.GenerativeModel('gemini-pro')\n",
        "def gemini_completion(prompt):\n",
        "    response = model.generate_content(prompt)\n",
        "    return response"
      ]
    },
    {
      "cell_type": "markdown",
      "metadata": {
        "id": "cAY1sbW-d3os"
      },
      "source": [
        "# Create the prompt\n",
        "\n",
        "Prompt contains instructions, context and the question. Feel free to experiment with the prompt and see the difference in responses from different models.\n",
        "\n",
        "News article used in this example: https://www.cnn.com/2023/05/18/media/disney-florida-desantis/index.html"
      ]
    },
    {
      "cell_type": "code",
      "execution_count": 6,
      "metadata": {
        "colab": {
          "base_uri": "https://localhost:8080/"
        },
        "id": "hwO9x-kypsst",
        "outputId": "daa5e2b9-49ae-410c-bb0f-7980e65fbf59"
      },
      "outputs": [
        {
          "name": "stdout",
          "output_type": "stream",
          "text": [
            "\n",
            "Instruction: Use only information in the following context to answer the question at the end. \n",
            "If you don't know, say that you do not know. \n",
            " \n",
            "Context:  \n",
            "\n",
            "Disney on Thursday upped the ante in its battle with Florida’s Republican Gov. Ron DeSantis, and it cost his state 2,000 white-collar jobs.\n",
            "Disney is scrapping plans to build a $1 billion office complex in Florida, citing “changing business conditions,” according to a memo provided by a Disney spokesperson.\n",
            "The decision comes at a time when the company is openly feuding with DeSantis, who is expected to officially enter the 2024 GOP presidential race next week, CNN reported Thursday.\n",
            "A spokesperson for DeSantis said it was “unsurprising” that Disney would cancel the project “given the company’s financial straits, falling market cap and declining stock price.”\n",
            "Disney, along with the broader media industry, is grappling with a difficult advertising environment and a massive writers strike. Earlier this year it announced it would be cutting 7,000 jobs as part of a cost-cutting effort.\n",
            "Separately, the company confirmed Thursday that it would shut down its Star Wars: Galactic Starcruiser resort at Disney World just over a year after it opened.\n",
            "The popular attraction “will take its final voyage” at the end of September, Disney said, adding that it is working with guests to rebook reservations for later in the year.\n",
            "\n",
            " \n",
            "Question: What plans Disney is cancelling?\n",
            " \n",
            "Response:\n",
            "\n",
            "\n",
            "Gemini:\n",
            "Disney is scrapping plans to build a $1 billion office complex in Florida.\n"
          ]
        }
      ],
      "source": [
        "context = \"\"\"\n",
        "\n",
        "Disney on Thursday upped the ante in its battle with Florida’s Republican Gov. Ron DeSantis, and it cost his state 2,000 white-collar jobs.\n",
        "Disney is scrapping plans to build a $1 billion office complex in Florida, citing “changing business conditions,” according to a memo provided by a Disney spokesperson.\n",
        "The decision comes at a time when the company is openly feuding with DeSantis, who is expected to officially enter the 2024 GOP presidential race next week, CNN reported Thursday.\n",
        "A spokesperson for DeSantis said it was “unsurprising” that Disney would cancel the project “given the company’s financial straits, falling market cap and declining stock price.”\n",
        "Disney, along with the broader media industry, is grappling with a difficult advertising environment and a massive writers strike. Earlier this year it announced it would be cutting 7,000 jobs as part of a cost-cutting effort.\n",
        "Separately, the company confirmed Thursday that it would shut down its Star Wars: Galactic Starcruiser resort at Disney World just over a year after it opened.\n",
        "The popular attraction “will take its final voyage” at the end of September, Disney said, adding that it is working with guests to rebook reservations for later in the year.\n",
        "\"\"\"\n",
        "\n",
        "question=\"What plans Disney is cancelling?\"\n",
        "\n",
        "prompt = f\"\"\"\n",
        "Instruction: Use only information in the following context to answer the question at the end.\n",
        "If you don't know, say that you do not know.\n",
        "\n",
        "Context:  {context}\n",
        "\n",
        "Question: {question}\n",
        "\n",
        "Response:\n",
        "\"\"\"\n",
        "print(prompt)\n",
        "\n",
        "#res = dolly_completion(prompt)\n",
        "#print(\"Dolly:\")\n",
        "#print(res[0]['generated_text'])\n",
        "\n",
        "\n",
        "res = gemini_completion(prompt)\n",
        "print(\"\\nGemini:\")\n",
        "print(res.candidates[0].content.parts[0].text)"
      ]
    },
    {
      "cell_type": "markdown",
      "metadata": {
        "id": "VBEIzCOCZUBB"
      },
      "source": [
        "## TODO:\n",
        "\n",
        "Some ideas for you to try:\n",
        "- add \"Respond in French/Spanish\" to the prompt.\n",
        "\n",
        "-  more information into the context until you hit the token limit of the model.\n",
        "\n",
        "- Replace the entire prompt with a simple task like \"Tell me about Newmarket, Ontario\"\n",
        "\n",
        "- provoke hallucinations \"what was the name of the first elephant to walk on the moon?\""
      ]
    },
    {
      "cell_type": "code",
      "execution_count": 7,
      "metadata": {
        "colab": {
          "base_uri": "https://localhost:8080/"
        },
        "id": "QWnI5NVkfa8L",
        "outputId": "609f62e5-04a8-44d5-9c68-18681fb7f54f"
      },
      "outputs": [
        {
          "name": "stdout",
          "output_type": "stream",
          "text": [
            "\n",
            "Gemini:\n",
            "**Newmarket, Ontario**\n",
            "\n",
            "**Overview:**\n",
            "\n",
            "Newmarket is a vibrant and growing town located in York Region, approximately 40 kilometers north of Toronto. With a population of approximately 87,000, Newmarket is the 12th largest urban center in the Greater Toronto Area (GTA).\n",
            "\n",
            "**History:**\n",
            "\n",
            "* Newmarket was founded in 1794 by a group of Quakers from Pennsylvania.\n",
            "* The town was named after Newmarket in England, which was the birthplace of William Holland, one of the Quaker founders.\n",
            "* Newmarket played a significant role in the War of 1812, as it was a hub for British troops and supplies.\n",
            "* In the mid-19th century, Newmarket became a prosperous market town, known for its agricultural produce.\n",
            "* Industrialization began to take hold in the late 19th century, with the establishment of several factories and mills.\n",
            "\n",
            "**Demographics:**\n",
            "\n",
            "* Newmarket has a diverse population, with a large percentage of immigrants from various countries around the world.\n",
            "* The majority of residents speak English as their primary language, but there are also significant communities that speak Chinese, Farsi, Spanish, and Korean.\n",
            "* The median household income in Newmarket is higher than the national average.\n",
            "\n",
            "**Economy:**\n",
            "\n",
            "* Newmarket's economy is primarily driven by the service sector, particularly healthcare, education, and finance.\n",
            "* Major employers in the town include Southlake Regional Health Centre, Seneca College, and General Motors.\n",
            "* Newmarket is also home to a growing tech sector, with companies such as CGI, BlackBerry, and Vertafore.\n",
            "\n",
            "**Culture and Recreation:**\n",
            "\n",
            "* Newmarket is known for its vibrant arts and culture scene.\n",
            "* The Newmarket Theatre hosts a variety of performances, including plays, musicals, and concerts.\n",
            "* The Elman W. Campbell Museum showcases local history and heritage.\n",
            "* Newmarket has numerous parks and trails, offering ample opportunities for outdoor recreation.\n",
            "* The recently-renovated Riverwalk Commons has become a popular gathering spot for residents and visitors.\n",
            "\n",
            "**Transportation:**\n",
            "\n",
            "* Newmarket is well-connected to the GTA, with access to Highway 404 and the GO Transit rail network.\n",
            "* The Newmarket GO Station provides frequent service to Union Station in downtown Toronto.\n",
            "* Newmarket Transit operates local bus routes within the town.\n",
            "\n",
            "**Education:**\n",
            "\n",
            "* Newmarket is home to a number of highly-rated public and private schools.\n",
            "* Seneca College and York University both have campuses in Newmarket.\n",
            "\n",
            "**Overall, Newmarket is a thriving and growing community with a rich history, a diverse population, a strong economy, and excellent amenities. Its proximity to Toronto makes it a popular choice for families and professionals looking for a balance between urban convenience and suburban living.**\n"
          ]
        }
      ],
      "source": [
        "prompt = \"Tell me about Newmarket, Ontario\"\n",
        "\n",
        "#res = dolly_completion(prompt)\n",
        "#print(\"Dolly:\")\n",
        "#print(res[0]['generated_text'])\n",
        "\n",
        "\n",
        "res = gemini_completion(prompt)\n",
        "print(\"\\nGemini:\")\n",
        "print(res.candidates[0].content.parts[0].text)"
      ]
    }
  ],
  "metadata": {
    "accelerator": "GPU",
    "colab": {
      "gpuType": "T4",
      "provenance": []
    },
    "gpuClass": "standard",
    "kernelspec": {
      "display_name": "Python 3",
      "name": "python3"
    },
    "language_info": {
      "name": "python"
    }
  },
  "nbformat": 4,
  "nbformat_minor": 0
}
